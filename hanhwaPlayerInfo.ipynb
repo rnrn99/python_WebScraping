{
  "nbformat": 4,
  "nbformat_minor": 0,
  "metadata": {
    "colab": {
      "name": "hanhwaPlayerInfo.ipynb",
      "provenance": [],
      "authorship_tag": "ABX9TyOKu25rpZ9uQklaPU8m5QNx",
      "include_colab_link": true
    },
    "kernelspec": {
      "name": "python3",
      "display_name": "Python 3"
    },
    "language_info": {
      "name": "python"
    }
  },
  "cells": [
    {
      "cell_type": "markdown",
      "metadata": {
        "id": "view-in-github",
        "colab_type": "text"
      },
      "source": [
        "<a href=\"https://colab.research.google.com/github/rnrn99/python_WebScraping/blob/master/hanhwaPlayerInfo.ipynb\" target=\"_parent\"><img src=\"https://colab.research.google.com/assets/colab-badge.svg\" alt=\"Open In Colab\"/></a>"
      ]
    },
    {
      "cell_type": "markdown",
      "metadata": {
        "id": "iGPbAWXa0-6G"
      },
      "source": [
        "# 한화이글스 선수 정보 가져오기\n",
        "\n",
        "naver > 한화이글스 검색 > 선수 정보 활용\n",
        "\n",
        "선수 이름, 선수 이미지, 선수 등번호"
      ]
    },
    {
      "cell_type": "code",
      "metadata": {
        "id": "Kj_U0nSYyA-B"
      },
      "source": [
        "import requests\n",
        "from bs4 import BeautifulSoup"
      ],
      "execution_count": 23,
      "outputs": []
    },
    {
      "cell_type": "code",
      "metadata": {
        "id": "vVCcHxH8yF-5"
      },
      "source": [
        "url = \"https://search.naver.com/search.naver?where=nexearch&sm=top_hty&fbm=0&ie=utf8&query=%ED%95%9C%ED%99%94%EC%9D%B4%EA%B8%80%EC%8A%A4\"\n",
        "res = requests.get(url)\n",
        "res.raise_for_status()\n",
        "\n",
        "soup = BeautifulSoup(res.text, \"lxml\")"
      ],
      "execution_count": 3,
      "outputs": []
    },
    {
      "cell_type": "code",
      "metadata": {
        "colab": {
          "base_uri": "https://localhost:8080/"
        },
        "id": "shndxtYyyTlo",
        "outputId": "b959eb24-4a31-4b50-a98b-b87b77e58141"
      },
      "source": [
        "images = soup.find_all(\"a\", attrs={\"class\":\"thmb_link\"})\n",
        "\n",
        "for image in images:\n",
        "  imageUrl = image.img[\"src\"]\n",
        "  playerName = image.img[\"alt\"]\n",
        "  playerNum = image.em.get_text()\n",
        "  playerNum = playerNum[3:]\n",
        "  print(imageUrl,playerName, playerNum)"
      ],
      "execution_count": 22,
      "outputs": [
        {
          "output_type": "stream",
          "text": [
            "https://search.pstatic.net/common?type=o&size=79x101&quality=95&direct=true&src=https%3A%2F%2Fsports-phinf.pstatic.net%2Fplayer%2Fkbo%2Fdefault%2F63765.png%23202103221701 김종수 1\n",
            "https://search.pstatic.net/common?type=o&size=79x101&quality=95&direct=true&src=https%3A%2F%2Fsports-phinf.pstatic.net%2Fplayer%2Fkbo%2Fdefault%2F50720.png%23202103221701 남지민 10\n",
            "https://search.pstatic.net/common?type=o&size=79x101&quality=95&direct=true&src=https%3A%2F%2Fsports-phinf.pstatic.net%2Fplayer%2Fkbo%2Fdefault%2F62611.png%23202103221701 임준섭 11\n",
            "https://search.pstatic.net/common?type=o&size=79x101&quality=95&direct=true&src=https%3A%2F%2Fsports-phinf.pstatic.net%2Fplayer%2Fkbo%2Fdefault%2F51715.png%23202103221701 김기중 15\n",
            "https://search.pstatic.net/common?type=o&size=79x101&quality=95&direct=true&src=https%3A%2F%2Fsports-phinf.pstatic.net%2Fplayer%2Fkbo%2Fdefault%2F63961.png%23202103221701 윤호솔 18\n",
            "https://search.pstatic.net/common?type=o&size=79x101&quality=95&direct=true&src=https%3A%2F%2Fsports-phinf.pstatic.net%2Fplayer%2Fkbo%2Fdefault%2F50815.png%23202103231622 킹험 20\n",
            "https://search.pstatic.net/common?type=o&size=79x101&quality=95&direct=true&src=https%3A%2F%2Fsports-phinf.pstatic.net%2Fplayer%2Fkbo%2Fdefault%2F51722.png%23202103231622 카펜터 22\n",
            "https://search.pstatic.net/common?type=o&size=79x101&quality=95&direct=true&src=https%3A%2F%2Fsports-phinf.pstatic.net%2Fplayer%2Fkbo%2Fdefault%2F77318.png%23202103221701 장시환 28\n",
            "https://search.pstatic.net/common?type=o&size=79x101&quality=95&direct=true&src=https%3A%2F%2Fsports-phinf.pstatic.net%2Fplayer%2Fkbo%2Fdefault%2F67711.png%23202103221701 김기탁 29\n",
            "https://search.pstatic.net/common?type=o&size=79x101&quality=95&direct=true&src=https%3A%2F%2Fsports-phinf.pstatic.net%2Fplayer%2Fkbo%2Fdefault%2F60140.png%23202103221701 신정락 31\n",
            "https://search.pstatic.net/common?type=o&size=79x101&quality=95&direct=true&src=https%3A%2F%2Fsports-phinf.pstatic.net%2Fplayer%2Fkbo%2Fdefault%2F68701.png%23202103221701 김진욱 32\n",
            "https://search.pstatic.net/common?type=o&size=79x101&quality=95&direct=true&src=https%3A%2F%2Fsports-phinf.pstatic.net%2Fplayer%2Fkbo%2Fdefault%2F79764.png%23202103221701 장민재 36\n",
            "https://search.pstatic.net/common?type=o&size=79x101&quality=95&direct=true&src=https%3A%2F%2Fsports-phinf.pstatic.net%2Fplayer%2Fkbo%2Fdefault%2F67737.png%23202103221701 김진영 37\n",
            "https://search.pstatic.net/common?type=o&size=79x101&quality=95&direct=true&src=https%3A%2F%2Fsports-phinf.pstatic.net%2Fplayer%2Fkbo%2Fdefault%2F64554.png%23202103221701 문동욱 38\n",
            "https://search.pstatic.net/common?type=o&size=79x101&quality=95&direct=true&src=https%3A%2F%2Fsports-phinf.pstatic.net%2Fplayer%2Fkbo%2Fdefault%2F50758.png%23202103221701 신지후 40\n",
            "https://search.pstatic.net/common?type=o&size=79x101&quality=95&direct=true&src=https%3A%2F%2Fsports-phinf.pstatic.net%2Fplayer%2Fkbo%2Fdefault%2F68703.png%23202103221701 박주홍 41\n",
            "https://search.pstatic.net/common?type=o&size=79x101&quality=95&direct=true&src=https%3A%2F%2Fsports-phinf.pstatic.net%2Fplayer%2Fkbo%2Fdefault%2F69745.png%23202103221701 김이환 45\n",
            "https://search.pstatic.net/common?type=o&size=79x101&quality=95&direct=true&src=https%3A%2F%2Fsports-phinf.pstatic.net%2Fplayer%2Fkbo%2Fdefault%2F50706.png%23202103221701 장웅정 46\n",
            "https://search.pstatic.net/common?type=o&size=79x101&quality=95&direct=true&src=https%3A%2F%2Fsports-phinf.pstatic.net%2Fplayer%2Fkbo%2Fdefault%2F65769.png%23202103221701 김범수 47\n",
            "https://search.pstatic.net/common?type=o&size=79x101&quality=95&direct=true&src=https%3A%2F%2Fsports-phinf.pstatic.net%2Fplayer%2Fkbo%2Fdefault%2F68797.png%23202103221701 이승관 48\n",
            "https://search.pstatic.net/common?type=o&size=79x101&quality=95&direct=true&src=https%3A%2F%2Fsports-phinf.pstatic.net%2Fplayer%2Fkbo%2Fdefault%2F63749.png%23202103221701 이충호 49\n",
            "https://search.pstatic.net/common?type=o&size=79x101&quality=95&direct=true&src=https%3A%2F%2Fsports-phinf.pstatic.net%2Fplayer%2Fkbo%2Fdefault%2F63464.png%23202103221701 윤대경 5\n",
            "https://search.pstatic.net/common?type=o&size=79x101&quality=95&direct=true&src=https%3A%2F%2Fsports-phinf.pstatic.net%2Fplayer%2Fkbo%2Fdefault%2F65764.png%23202103221701 김민우 53\n",
            "https://search.pstatic.net/common?type=o&size=79x101&quality=95&direct=true&src=https%3A%2F%2Fsports-phinf.pstatic.net%2Fplayer%2Fkbo%2Fdefault%2F64759.png%23202103221701 서균 54\n",
            "https://search.pstatic.net/common?type=o&size=79x101&quality=95&direct=true&src=https%3A%2F%2Fsports-phinf.pstatic.net%2Fplayer%2Fkbo%2Fdefault%2F50705.png%23202103221701 강재민 55\n",
            "https://search.pstatic.net/common?type=o&size=79x101&quality=95&direct=true&src=https%3A%2F%2Fsports-phinf.pstatic.net%2Fplayer%2Fkbo%2Fdefault%2F61156.png%23202103221701 송윤준 56\n",
            "https://search.pstatic.net/common?type=o&size=79x101&quality=95&direct=true&src=https%3A%2F%2Fsports-phinf.pstatic.net%2Fplayer%2Fkbo%2Fdefault%2F74857.png%23202103221701 정우람 57\n",
            "https://search.pstatic.net/common?type=o&size=79x101&quality=95&direct=true&src=https%3A%2F%2Fsports-phinf.pstatic.net%2Fplayer%2Fkbo%2Fdefault%2F69703.png%23202103221701 오동욱 58\n",
            "https://search.pstatic.net/common?type=o&size=79x101&quality=95&direct=true&src=https%3A%2F%2Fsports-phinf.pstatic.net%2Fplayer%2Fkbo%2Fdefault%2F50726.png%23202103221701 한승주 59\n",
            "https://search.pstatic.net/common?type=o&size=79x101&quality=95&direct=true&src=https%3A%2F%2Fsports-phinf.pstatic.net%2Fplayer%2Fkbo%2Fdefault%2F64760.png%23202103221701 황영국 60\n",
            "https://search.pstatic.net/common?type=o&size=79x101&quality=95&direct=true&src=https%3A%2F%2Fsports-phinf.pstatic.net%2Fplayer%2Fkbo%2Fdefault%2F51761.png%23202103221701 배동현 61\n",
            "https://search.pstatic.net/common?type=o&size=79x101&quality=95&direct=true&src=https%3A%2F%2Fsports-phinf.pstatic.net%2Fplayer%2Fkbo%2Fdefault%2F65707.png%23202103221701 주현상 66\n",
            "https://search.pstatic.net/common?type=o&size=79x101&quality=95&direct=true&src=https%3A%2F%2Fsports-phinf.pstatic.net%2Fplayer%2Fkbo%2Fdefault%2F51796.png%23202103221701 조은 96\n",
            "https://search.pstatic.net/common?type=o&size=79x101&quality=95&direct=true&src=https%3A%2F%2Fsports-phinf.pstatic.net%2Fplayer%2Fkbo%2Fdefault%2F79440.png%23202103221701 정인욱 97\n",
            "https://search.pstatic.net/common?type=o&size=79x101&quality=95&direct=true&src=https%3A%2F%2Fsports-phinf.pstatic.net%2Fplayer%2Fkbo%2Fdefault%2F69702.png%23202103221701 김현민 12\n",
            "https://search.pstatic.net/common?type=o&size=79x101&quality=95&direct=true&src=https%3A%2F%2Fsports-phinf.pstatic.net%2Fplayer%2Fkbo%2Fdefault%2F65703.png%23202103221701 이도윤 14\n",
            "https://search.pstatic.net/common?type=o&size=79x101&quality=95&direct=true&src=https%3A%2F%2Fsports-phinf.pstatic.net%2Fplayer%2Fkbo%2Fdefault%2F62700.png%23202103221701 하주석 16\n",
            "https://search.pstatic.net/common?type=o&size=79x101&quality=95&direct=true&src=https%3A%2F%2Fsports-phinf.pstatic.net%2Fplayer%2Fkbo%2Fdefault%2F64704.png%23202103221701 노태형 2\n",
            "https://search.pstatic.net/common?type=o&size=79x101&quality=95&direct=true&src=https%3A%2F%2Fsports-phinf.pstatic.net%2Fplayer%2Fkbo%2Fdefault%2F51725.png%23202103231622 힐리 25\n",
            "https://search.pstatic.net/common?type=o&size=79x101&quality=95&direct=true&src=https%3A%2F%2Fsports-phinf.pstatic.net%2Fplayer%2Fkbo%2Fdefault%2F69705.png%23202103221701 조한민 4\n",
            "https://search.pstatic.net/common?type=o&size=79x101&quality=95&direct=true&src=https%3A%2F%2Fsports-phinf.pstatic.net%2Fplayer%2Fkbo%2Fdefault%2F68743.png%23202103221701 정은원 43\n",
            "https://search.pstatic.net/common?type=o&size=79x101&quality=95&direct=true&src=https%3A%2F%2Fsports-phinf.pstatic.net%2Fplayer%2Fkbo%2Fdefault%2F64209.png%23202103221701 정기훈 44\n",
            "https://search.pstatic.net/common?type=o&size=79x101&quality=95&direct=true&src=https%3A%2F%2Fsports-phinf.pstatic.net%2Fplayer%2Fkbo%2Fdefault%2F73136.png%23202103221701 이성열 50\n",
            "https://search.pstatic.net/common?type=o&size=79x101&quality=95&direct=true&src=https%3A%2F%2Fsports-phinf.pstatic.net%2Fplayer%2Fkbo%2Fdefault%2F71752.png%23202004171323 김태균 52\n",
            "https://search.pstatic.net/common?type=o&size=79x101&quality=95&direct=true&src=https%3A%2F%2Fsports-phinf.pstatic.net%2Fplayer%2Fkbo%2Fdefault%2F78756.png%23202103221701 오선진 6\n",
            "https://search.pstatic.net/common?type=o&size=79x101&quality=95&direct=true&src=https%3A%2F%2Fsports-phinf.pstatic.net%2Fplayer%2Fkbo%2Fdefault%2F63703.png%23202103221701 박한결 63\n",
            "https://search.pstatic.net/common?type=o&size=79x101&quality=95&direct=true&src=https%3A%2F%2Fsports-phinf.pstatic.net%2Fplayer%2Fkbo%2Fdefault%2F51764.png%23202103221701 정민규 64\n",
            "https://search.pstatic.net/common?type=o&size=79x101&quality=95&direct=true&src=https%3A%2F%2Fsports-phinf.pstatic.net%2Fplayer%2Fkbo%2Fdefault%2F51767.png%23202103221701 송호정 67\n",
            "https://search.pstatic.net/common?type=o&size=79x101&quality=95&direct=true&src=https%3A%2F%2Fsports-phinf.pstatic.net%2Fplayer%2Fkbo%2Fdefault%2F61700.png%23202103221701 강경학 7\n",
            "https://search.pstatic.net/common?type=o&size=79x101&quality=95&direct=true&src=https%3A%2F%2Fsports-phinf.pstatic.net%2Fplayer%2Fkbo%2Fdefault%2F69737.png%23202103221701 노시환 8\n",
            "https://search.pstatic.net/common?type=o&size=79x101&quality=95&direct=true&src=https%3A%2F%2Fsports-phinf.pstatic.net%2Fplayer%2Fkbo%2Fdefault%2F50709.png%23202103221701 박정현 9\n",
            "https://search.pstatic.net/common?type=o&size=79x101&quality=95&direct=true&src=https%3A%2F%2Fsports-phinf.pstatic.net%2Fplayer%2Fkbo%2Fdefault%2F63704.png%23202103221701 노수광 17\n",
            "https://search.pstatic.net/common?type=o&size=79x101&quality=95&direct=true&src=https%3A%2F%2Fsports-phinf.pstatic.net%2Fplayer%2Fkbo%2Fdefault%2F66710.png%23202103221701 강상원 19\n",
            "https://search.pstatic.net/common?type=o&size=79x101&quality=95&direct=true&src=https%3A%2F%2Fsports-phinf.pstatic.net%2Fplayer%2Fkbo%2Fdefault%2F50704.png%23202103221701 임종찬 24\n",
            "https://search.pstatic.net/common?type=o&size=79x101&quality=95&direct=true&src=https%3A%2F%2Fsports-phinf.pstatic.net%2Fplayer%2Fkbo%2Fdefault%2F63700.png%23202103221701 장운호 30\n",
            "https://search.pstatic.net/common?type=o&size=79x101&quality=95&direct=true&src=https%3A%2F%2Fsports-phinf.pstatic.net%2Fplayer%2Fkbo%2Fdefault%2F61208.png%23202103221701 정진호 33\n",
            "https://search.pstatic.net/common?type=o&size=79x101&quality=95&direct=true&src=https%3A%2F%2Fsports-phinf.pstatic.net%2Fplayer%2Fkbo%2Fdefault%2F50707.png%23202103221701 최인호 34\n",
            "https://search.pstatic.net/common?type=o&size=79x101&quality=95&direct=true&src=https%3A%2F%2Fsports-phinf.pstatic.net%2Fplayer%2Fkbo%2Fdefault%2F61554.png%23202103221701 김민하 39\n",
            "https://search.pstatic.net/common?type=o&size=79x101&quality=95&direct=true&src=https%3A%2F%2Fsports-phinf.pstatic.net%2Fplayer%2Fkbo%2Fdefault%2F66702.png%23202103221701 이동훈 51\n",
            "https://search.pstatic.net/common?type=o&size=79x101&quality=95&direct=true&src=https%3A%2F%2Fsports-phinf.pstatic.net%2Fplayer%2Fkbo%2Fdefault%2F69766.png%23202103221701 유장혁 68\n",
            "https://search.pstatic.net/common?type=o&size=79x101&quality=95&direct=true&src=https%3A%2F%2Fsports-phinf.pstatic.net%2Fplayer%2Fkbo%2Fdefault%2F65503.png%23202103221701 김지수 69\n",
            "https://search.pstatic.net/common?type=o&size=79x101&quality=95&direct=true&src=https%3A%2F%2Fsports-phinf.pstatic.net%2Fplayer%2Fkbo%2Fdefault%2F78288.png%23202103221701 최재훈 13\n",
            "https://search.pstatic.net/common?type=o&size=79x101&quality=95&direct=true&src=https%3A%2F%2Fsports-phinf.pstatic.net%2Fplayer%2Fkbo%2Fdefault%2F69706.png%23202103221701 허관회 26\n",
            "https://search.pstatic.net/common?type=o&size=79x101&quality=95&direct=true&src=https%3A%2F%2Fsports-phinf.pstatic.net%2Fplayer%2Fkbo%2Fdefault%2F60343.png%23202103221701 이해창 27\n",
            "https://search.pstatic.net/common?type=o&size=79x101&quality=95&direct=true&src=https%3A%2F%2Fsports-phinf.pstatic.net%2Fplayer%2Fkbo%2Fdefault%2F66707.png%23202103221701 박상언 42\n",
            "https://search.pstatic.net/common?type=o&size=79x101&quality=95&direct=true&src=https%3A%2F%2Fsports-phinf.pstatic.net%2Fplayer%2Fkbo%2Fdefault%2F51762.png%23202103221701 장규현 62\n"
          ],
          "name": "stdout"
        }
      ]
    }
  ]
}